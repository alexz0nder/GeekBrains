{
 "cells": [
  {
   "cell_type": "code",
   "execution_count": 2,
   "metadata": {},
   "outputs": [
    {
     "name": "stdout",
     "output_type": "stream",
     "text": [
      "string = разработка  type =  <class 'str'>\n",
      "after UNICODE encode ->\n",
      "string_utf = b'\\xd1\\x80\\xd0\\xb0\\xd0\\xb7\\xd1\\x80\\xd0\\xb0\\xd0\\xb1\\xd0\\xbe\\xd1\\x82\\xd0\\xba\\xd0\\xb0' , type =  <class 'bytes'> \n",
      "\n",
      "\n",
      "string = сокет  type =  <class 'str'>\n",
      "after UNICODE encode ->\n",
      "string_utf = b'\\xd1\\x81\\xd0\\xbe\\xd0\\xba\\xd0\\xb5\\xd1\\x82' , type =  <class 'bytes'> \n",
      "\n",
      "\n",
      "string = декоратор  type =  <class 'str'>\n",
      "after UNICODE encode ->\n",
      "string_utf = b'\\xd0\\xb4\\xd0\\xb5\\xd0\\xba\\xd0\\xbe\\xd1\\x80\\xd0\\xb0\\xd1\\x82\\xd0\\xbe\\xd1\\x80' , type =  <class 'bytes'> \n",
      "\n",
      "\n"
     ]
    }
   ],
   "source": [
    "# 1.\n",
    "# every one word from 'разработка', 'сокет', 'декоратор' should be stored as a string\n",
    "# then checked its type and contents. Next we have to convert every sting to Unicode\n",
    "# format and also chech its type and contents.\n",
    "#\n",
    "for string in ('разработка', 'сокет', 'декоратор'):\n",
    "    print('string =', string, ' type = ', type(string))\n",
    "\n",
    "    print('after UNICODE encode ->')\n",
    "    string_unicode = string.encode('utf-8')\n",
    "    print('string_utf =', string_unicode ,', type = ', type(string_unicode), '\\n\\n')\n"
   ]
  },
  {
   "cell_type": "code",
   "execution_count": 3,
   "metadata": {},
   "outputs": [
    {
     "name": "stdout",
     "output_type": "stream",
     "text": [
      "type = <class 'bytes'> , bytes_str = b'class' bytes_str length =  5\n",
      "type = <class 'bytes'> , bytes_str = b'function' bytes_str length =  8\n",
      "type = <class 'bytes'> , bytes_str = b'method' bytes_str length =  6\n"
     ]
    }
   ],
   "source": [
    "# 2.\n",
    "# For every one of the next strings that are olready declared as a bytes string\n",
    "# find out it's type, content and length\n",
    "#\n",
    "for bytes_str in (b'class', b'function', b'method'):\n",
    "    print('type =',type(bytes_str), ', bytes_str =', bytes_str, 'bytes_str length = ', len(bytes_str))"
   ]
  },
  {
   "cell_type": "code",
   "execution_count": 4,
   "metadata": {},
   "outputs": [
    {
     "name": "stdout",
     "output_type": "stream",
     "text": [
      "string  класс ' cant't be stroed as a bytes type WITHOUT encoding\n",
      "string  функция ' cant't be stroed as a bytes type WITHOUT encoding\n"
     ]
    }
   ],
   "source": [
    "# 3.\n",
    "# find out which one of the next strings can't be stored as bytes variable\n",
    "# winthout encoding\n",
    "#\n",
    "for string in ('attribute', 'класс', 'функция', 'type'):\n",
    "    if (string != str(string.encode('utf-8'))[2:-1]):\n",
    "            print('string ',string,\"' cant't be stroed as a bytes type WITHOUT encoding\")"
   ]
  },
  {
   "cell_type": "code",
   "execution_count": 5,
   "metadata": {},
   "outputs": [
    {
     "name": "stdout",
     "output_type": "stream",
     "text": [
      "string to bytes (encode) -> b'\\xd1\\x80\\xd0\\xb0\\xd0\\xb7\\xd1\\x80\\xd0\\xb0\\xd0\\xb1\\xd0\\xbe\\xd1\\x82\\xd0\\xba\\xd0\\xb0'\n",
      "bytes to string (decode) -> разработка \n",
      "\n",
      "string to bytes (encode) -> b'\\xd0\\xb0\\xd0\\xb4\\xd0\\xbc\\xd0\\xb8\\xd0\\xbd\\xd0\\xb8\\xd1\\x81\\xd1\\x82\\xd1\\x80\\xd0\\xb8\\xd1\\x80\\xd0\\xbe\\xd0\\xb2\\xd0\\xb0\\xd0\\xbd\\xd0\\xb8\\xd0\\xb5'\n",
      "bytes to string (decode) -> администрирование \n",
      "\n",
      "string to bytes (encode) -> b'protocol'\n",
      "bytes to string (decode) -> protocol \n",
      "\n",
      "string to bytes (encode) -> b'standard'\n",
      "bytes to string (decode) -> standard \n",
      "\n"
     ]
    }
   ],
   "source": [
    "# 4.\n",
    "# With methods encode/decode convert strings to bytes and back\n",
    "#\n",
    "for string in ('разработка', 'администрирование', 'protocol', 'standard'):\n",
    "    bytes_string = string.encode('utf-8')\n",
    "    print('string to bytes (encode) ->', bytes_string)\n",
    "    string_string = bytes_string.decode('utf-8')\n",
    "    print('bytes to string (decode) ->', string_string, '\\n')"
   ]
  },
  {
   "cell_type": "code",
   "execution_count": 6,
   "metadata": {},
   "outputs": [
    {
     "name": "stdout",
     "output_type": "stream",
     "text": [
      "PING yandex.ru (5.255.255.50) 56(84) bytes of data.\n",
      "64 bytes from yandex.ru (5.255.255.50): icmp_seq=1 ttl=56 time=28.3 ms\n",
      "\n",
      "--- yandex.ru ping statistics ---\n",
      "1 packets transmitted, 1 received, 0% packet loss, time 0ms\n",
      "rtt min/avg/max/mdev = 28.337/28.337/28.337/0.000 ms\n",
      " \n",
      "\n",
      "\n",
      "PING youtube.com (173.194.221.93) 56(84) bytes of data.\n",
      "64 bytes from lm-in-f93.1e100.net (173.194.221.93): icmp_seq=1 ttl=44 time=38.0 ms\n",
      "\n",
      "--- youtube.com ping statistics ---\n",
      "1 packets transmitted, 1 received, 0% packet loss, time 0ms\n",
      "rtt min/avg/max/mdev = 38.093/38.093/38.093/0.000 ms\n",
      " \n",
      "\n",
      "\n"
     ]
    }
   ],
   "source": [
    "# 5.\n",
    "# Ping web resources and convert bytes outpup to a string\n",
    "#\n",
    "import subprocess, chardet\n",
    "for web_address in ['yandex.ru', 'youtube.com']:\n",
    "    try:\n",
    "        ping_result = subprocess.check_output(['ping', '-c', '1', web_address])\n",
    "    except:\n",
    "        print('SORRY! Host:',web_address,\"can't be reached or something else went wrong :)\")\n",
    "    else:\n",
    "        code = chardet.detect(ping_result)\n",
    "        print(ping_result.decode(code['encoding']),'\\n\\n')"
   ]
  },
  {
   "cell_type": "code",
   "execution_count": 9,
   "metadata": {},
   "outputs": [
    {
     "name": "stdout",
     "output_type": "stream",
     "text": [
      "file encoding is:  utf-8\n",
      "сетевое программирование\n",
      "сокет\n",
      "декоратор\n"
     ]
    }
   ],
   "source": [
    "# 6.\n",
    "# Check the CodePage of the file test_file.txt, open it in Unicode\n",
    "# format ant print its contents\n",
    "#\n",
    "import chardet\n",
    "with open('test_file.txt', 'rb') as fh:\n",
    "    print('file encoding is: ', chardet.detect(fh.read())['encoding'])\n",
    "    \n",
    "with open('test_file.txt', mode='r', encoding='utf-8') as fh:\n",
    "    print(fh.read())"
   ]
  },
  {
   "cell_type": "code",
   "execution_count": 10,
   "metadata": {},
   "outputs": [
    {
     "name": "stdout",
     "output_type": "stream",
     "text": [
      "<class 'bytes'>   разработка   ÑÐ°Ð·ÑÐ°Ð±Ð¾ÑÐºÐ°\n",
      "<class 'bytes'>   сокет   ÑÐ¾ÐºÐµÑ\n",
      "<class 'bytes'>   декоратор   Ð´ÐµÐºÐ¾ÑÐ°ÑÐ¾Ñ\n"
     ]
    }
   ],
   "source": [
    "# из раздела \"Необходимые и достаточные условия\"\n",
    "\n",
    "for string in ('разработка', 'сокет', 'декоратор'):\n",
    "    bytes_variable = string.encode('utf-8')\n",
    "\n",
    "    string_variable = str(bytes_variable)\n",
    "\n",
    "    bytes_variable_utf = bytes_variable.decode('utf-8')\n",
    "    bytes_variable_latin = bytes_variable.decode('latin-1')\n",
    "    #string_string_utf = string_variable.decode('utf-8')         # string type has no decode attribute\n",
    "    #string_string_latin = string_variable.decode('latin-1')     # So to decode, string, shoulf be encoded first\n",
    "\n",
    "    print(type(bytes_variable), ' ', bytes_variable_utf, ' ', bytes_variable_latin)\n",
    "    #print(string_string_utf, ' ', string_string_latin)\n",
    "    \n",
    "    "
   ]
  },
  {
   "cell_type": "code",
   "execution_count": null,
   "metadata": {},
   "outputs": [],
   "source": []
  }
 ],
 "metadata": {
  "kernelspec": {
   "display_name": "Python 3",
   "language": "python",
   "name": "python3"
  },
  "language_info": {
   "codemirror_mode": {
    "name": "ipython",
    "version": 3
   },
   "file_extension": ".py",
   "mimetype": "text/x-python",
   "name": "python",
   "nbconvert_exporter": "python",
   "pygments_lexer": "ipython3",
   "version": "3.6.7"
  }
 },
 "nbformat": 4,
 "nbformat_minor": 2
}
